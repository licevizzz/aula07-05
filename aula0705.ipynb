{
 "cells": [
  {
   "cell_type": "code",
   "execution_count": 1,
   "metadata": {},
   "outputs": [
    {
     "name": "stdout",
     "output_type": "stream",
     "text": [
      "Estamos no elemento 1\n",
      "Estamos no elemento 2\n",
      "Estamos no elemento 3\n",
      "Estamos no elemento 4\n",
      "Estamos no elemento 5\n",
      "Estamos no elemento 6\n"
     ]
    }
   ],
   "source": [
    "for elemento in [1,2,3,4,5,6]:\n",
    "    print('Estamos no elemento', elemento)"
   ]
  },
  {
   "cell_type": "code",
   "execution_count": 2,
   "metadata": {},
   "outputs": [
    {
     "name": "stdout",
     "output_type": "stream",
     "text": [
      "Estamos no elemneto S\n",
      "Estamos no elemneto T\n",
      "Estamos no elemneto R\n",
      "Estamos no elemneto I\n",
      "Estamos no elemneto N\n",
      "Estamos no elemneto G\n"
     ]
    }
   ],
   "source": [
    "for elemento in 'STRING':\n",
    "    print('Estamos no elemneto', elemento)"
   ]
  },
  {
   "cell_type": "code",
   "execution_count": 4,
   "metadata": {},
   "outputs": [
    {
     "name": "stdout",
     "output_type": "stream",
     "text": [
      "Estamos no elemento 0\n",
      "Estamos no elemento 1\n",
      "Estamos no elemento 2\n",
      "Estamos no elemento 3\n",
      "Estamos no elemento 4\n",
      "Estamos no elemento 5\n"
     ]
    }
   ],
   "source": [
    "for elemento in range (len('STRING')):\n",
    "    print('Estamos no elemento', elemento)"
   ]
  },
  {
   "cell_type": "code",
   "execution_count": 7,
   "metadata": {},
   "outputs": [
    {
     "name": "stdout",
     "output_type": "stream",
     "text": [
      "Estamos no elemento 0\n",
      "Estamos no elemento 1\n",
      "Estamos no elemento 2\n",
      "Estamos no elemento 3\n",
      "Estamos no elemento 4\n",
      "Estamos no elemento 5\n",
      "Estamos no elemento 6\n"
     ]
    }
   ],
   "source": [
    "elemento = 0\n",
    "\n",
    "while elemento <= len([1,2,3,4,5,6]):\n",
    "    print('Estamos no elemento', elemento)\n",
    "    elemento += 1"
   ]
  },
  {
   "cell_type": "code",
   "execution_count": 8,
   "metadata": {},
   "outputs": [
    {
     "name": "stdout",
     "output_type": "stream",
     "text": [
      "Estamos no elemento S\n",
      "Estamos no elemento T\n",
      "Estamos no elemento R\n",
      "Estamos no elemento I\n",
      "Estamos no elemento N\n",
      "Estamos no elemento G\n"
     ]
    }
   ],
   "source": [
    "S= 'STRING'\n",
    "indice = 0\n",
    "\n",
    "while indice in range (len (S)):\n",
    "    print('Estamos no elemento', S[indice])\n",
    "    indice +=1"
   ]
  },
  {
   "cell_type": "code",
   "execution_count": 15,
   "metadata": {},
   "outputs": [
    {
     "name": "stdout",
     "output_type": "stream",
     "text": [
      "0 t\n",
      "1 r\n",
      "2 a\n",
      "3 q\n",
      "4 n\n",
      "5 u\n",
      "6 i\n",
      "7 l\n",
      "8 o\n"
     ]
    }
   ],
   "source": [
    "palavra= 'traqnuilo'\n",
    "for indice, x in enumerate(palavra):\n",
    "    print(indice,x)"
   ]
  },
  {
   "cell_type": "code",
   "execution_count": 21,
   "metadata": {},
   "outputs": [
    {
     "name": "stdout",
     "output_type": "stream",
     "text": [
      "<enumerate object at 0x0000020C8028E250>\n",
      "<enumerate object at 0x0000020C810FA020>\n"
     ]
    }
   ],
   "source": [
    "lista= ['eat', 'sleep', 'repeat']\n",
    "palavra='geek'\n",
    "\n",
    "objeto1 = enumerate(lista)\n",
    "objeto2 = enumerate(palavra)\n",
    "\n",
    "print(objeto1)\n",
    "print(objeto2)"
   ]
  },
  {
   "cell_type": "code",
   "execution_count": 22,
   "metadata": {},
   "outputs": [
    {
     "name": "stdout",
     "output_type": "stream",
     "text": [
      "Tipo:  <class 'enumerate'>\n",
      "[(0, 'eat'), (1, 'sleep'), (2, 'repeat')]\n"
     ]
    }
   ],
   "source": [
    "print('Tipo: ', type(objeto1))\n",
    "print(list(enumerate(lista)))"
   ]
  },
  {
   "cell_type": "code",
   "execution_count": 23,
   "metadata": {},
   "outputs": [
    {
     "name": "stdout",
     "output_type": "stream",
     "text": [
      "[(2, 'g'), (3, 'e'), (4, 'e'), (5, 'k')]\n"
     ]
    }
   ],
   "source": [
    "print(list(enumerate(palavra,2)))"
   ]
  },
  {
   "cell_type": "code",
   "execution_count": 26,
   "metadata": {},
   "outputs": [
    {
     "name": "stdout",
     "output_type": "stream",
     "text": [
      "OI\n",
      "OI\n",
      "OI\n",
      "OI\n",
      "OI\n",
      "OI\n",
      "OI\n",
      "OI\n",
      "OI\n",
      "OI\n",
      "OI\n",
      "OI\n",
      "OI\n"
     ]
    }
   ],
   "source": [
    "S = 'viva o python'\n",
    "for ch in S:\n",
    "    print('OI')"
   ]
  },
  {
   "cell_type": "code",
   "execution_count": 42,
   "metadata": {},
   "outputs": [
    {
     "name": "stdout",
     "output_type": "stream",
     "text": [
      "Quantidade de números pares: 7\n",
      "Quantidade de números ímpares: 3\n"
     ]
    }
   ],
   "source": [
    "#DESAFIO - Faça um programa que peça 10 números inteiros, calcule e mostre a quantidade de números pares e quantidade de números ímpares.\n",
    "\n",
    "quantidades_pares = 0\n",
    "quantidade_impares = 0\n",
    "for x in range(10):\n",
    "\n",
    "    numero_int = int(input('Digite 10 números inteiros'))\n",
    "    if numero_int % 2 == 0:\n",
    "        quantidades_pares += 1\n",
    "    else: \n",
    "        quantidade_impares\n",
    "        quantidade_impares +=1\n",
    "\n",
    "print('Quantidade de números pares:', quantidades_pares)\n",
    "print('Quantidade de números ímpares:', quantidade_impares)\n"
   ]
  },
  {
   "cell_type": "code",
   "execution_count": null,
   "metadata": {},
   "outputs": [],
   "source": []
  }
 ],
 "metadata": {
  "kernelspec": {
   "display_name": "Python 3",
   "language": "python",
   "name": "python3"
  },
  "language_info": {
   "codemirror_mode": {
    "name": "ipython",
    "version": 3
   },
   "file_extension": ".py",
   "mimetype": "text/x-python",
   "name": "python",
   "nbconvert_exporter": "python",
   "pygments_lexer": "ipython3",
   "version": "3.11.9"
  }
 },
 "nbformat": 4,
 "nbformat_minor": 2
}
